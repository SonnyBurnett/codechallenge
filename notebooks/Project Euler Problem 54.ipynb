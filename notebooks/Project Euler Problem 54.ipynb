{
 "cells": [
  {
   "cell_type": "markdown",
   "metadata": {},
   "source": [
    "**[Week 2 - coding@GEP - Expert](https://projecteuler.net/problem=54)**\n"
   ]
  },
  {
   "cell_type": "markdown",
   "metadata": {},
   "source": [
    "#  Euler problem 54\n",
    "\n",
    "Notebooks are composed out of blocks (called \"cells\") of text and code. Each of these is editable, though you'll only be expected to update the input in output cells after running a predefined code cell.\n",
    "\n",
    "To get started, try running the code cell below (by pressing the ► Run button, or clicking on the cell and pressing ctrl+enter on your keyboard). I have added two kinds of toggles to be able to toggle the code cell in order to have a readable jupyter notebook. You must execute the code cell in the correct order as some are importing variables and notebook formatting.\n",
    "\n",
    "If you need to restart the notebook follow the following steps:\n",
    "* Clean all output: Kernel ➪ Restart & Clean Output.\n",
    "* Reload the form by pressing F5 or using the the notebook menu.\n",
    "* Re-run all cells up to the cell when you re-started, some imports and variables are set in earlier cells."
   ]
  },
  {
   "cell_type": "code",
   "execution_count": null,
   "metadata": {
    "scrolled": true
   },
   "outputs": [],
   "source": [
    "import sys\n",
    "sys.path.append('../src/')\n",
    "sys.path.append('../eproblems/')\n",
    "from toggle_cell import toggle_code, toggle_link"
   ]
  },
  {
   "cell_type": "markdown",
   "metadata": {},
   "source": [
    "## Description of problem  54: Poker hands **[link](https://projecteuler.net/problem=54)**\n",
    "    \n",
    "In the card game poker, a hand consists of five cards and are ranked, from lowest to highest, in the following way:\n",
    "\n",
    "  * High Card: Highest value card.\n",
    "  * One Pair: Two cards of the same value.\n",
    "  * Two Pairs: Two different pairs.\n",
    "  * Three of a Kind: Three cards of the same value.\n",
    "  * Straight: All cards are consecutive values.\n",
    "  * Flush: All cards of the same suit.\n",
    "  * Full House: Three of a kind and a pair.\n",
    "  * Four of a Kind: Four cards of the same value.\n",
    "  * Straight Flush: All cards are consecutive values of same suit.\n",
    "  * Royal Flush: Ten, Jack, Queen, King, Ace, in same suit.\n",
    "\n",
    "The cards are valued in the order:\n",
    "    2, 3, 4, 5, 6, 7, 8, 9, 10, Jack, Queen, King, Ace.\n",
    "\n",
    "If two players have the same ranked hands then the rank made up of the highest value wins; for example, a pair of eights beats a pair of fives (see example 1 below). But if two ranks tie, for example, both players have a pair of queens, then highest cards in each hand are compared (see example 4 below); if the highest cards tie then the next highest cards are compared, and so on.\n",
    "\n",
    "Consider the following five hands dealt to two players:\n",
    "\n",
    "| Hand | Player 1 | Player 2 | Winner |\n",
    "|:---|:---:|:---:|---:|\n",
    "| **1** | 5H 5C 6S 7S KD<br> Pair of Fives | 2C 3S 8S 8D TD<br> Pair of Eights | Player 2 |\n",
    "| **2** | 5D 8C 9S JS AC<br> Highest card Ace | 2C 5C 7D 8S QH<br> Highest card Queen | Player 1 |\n",
    "| **3** | 2D 9C AS AH AC<br> Three Aces | 3D 6D 7D TD QD<br> Flush with Diamonds | Player 2 |\n",
    "| **4** | 4D 6S 9H QH QC<br> Pair of Queens<br> Highest card Nine | 3D 6D 7H QD QS<br> Pair of Queens<br> Highest card Seven | Player 1 |\n",
    "| **5** | 2H 2D 4C 4D 4S<br> Full House<br> With Three Fours | 3C 3D 3S 9S 9D<br> Full House<br> with Three Threes | Player 1 |\n",
    "\n",
    "The file, [poker.txt](../data/p054_poker.txt), contains one-thousand random hands dealt to two players. Each line of the file contains ten cards (separated by a single space): the first five are Player 1's cards and the last five are Player 2's cards. You can assume that all hands are valid (no invalid characters or repeated cards), each player's hand is in no specific order, and in each hand there is a clear winner.\n",
    "\n",
    "How many hands does Player 1 win?"
   ]
  },
  {
   "cell_type": "markdown",
   "metadata": {},
   "source": [
    "## Brainstorm\n",
    "\n",
    "The challenge over here is consisting of the following challenge:\n",
    "1. Reading the cards and determine their value compared to another set of cards.\n",
    "\n",
    "*So on first sight it sound simple but it is not; all is now in the creativity.*\n",
    "\n",
    "1. Now let's see what we can do based on mathematics: for this we need to generate a value that increases as the value of the hand increase. Yes this sound neat, but actually thinking of this means you need predefine a range of numbers and pre-calculate a lot of combinations. This smells like it could end-up in a big program (with no guaranteed insight how it can be managed, it could be really a big amounts of lines of code). My advice (more an *gut feeling*) do **not** go this path.  \n",
    "\n",
    "2. Second brainstorm let's do this using patten recognition, sound oke does it not? However this could end up in the same corner as the basic mathematics predefining all pattens (**yucky**). So I would **not** do this due to the same gut feeling. \n",
    "\n",
    "3. Third thought: let see if we can use something in python that could do like mathematical Set theory comparison and have all the rules if possible put into a simple way of representing them, without the need to predefine all states. Oké this sounds like a plan, let's see if we could do this. First check the internet and python libraries (as I'm a newbie in this script language) let's google sets, collections and investigate the additional lists, tuples and dict's methods. Yes we are in luck there is something called collections that can be used and bonus is that this has a default setting that can be used for counting. This was for me sufficient to try this out.\n",
    "\n",
    "So let's look how we are going to translate the assignment into rules/set's etc.:\n",
    "* For the cards it is simply counting from 2 to 9 and continue to 14 as long the value is lower for low valued cards for:\n",
    "    * Ten's (T) set to 10, \n",
    "    * Jack's (J) set to 11,\n",
    "    * Queen's (Q) set to 12,\n",
    "    * King's (K) set to 13,\n",
    "    * Ace's (A) set to 14;\n",
    "    *(Note the Ace will not dubble for a one (1) as this is not defined in the problem normally it does that in Poker.)*\n",
    "\n",
    "Now let's order the hands in to the wining strengths, the highest will win and also compete for the highest card if both players have the same Ranked value. Further let's look at the number of suits (as same suits win differently) and check the groups of the cards that you have:\n",
    "\n",
    "| Ranked| Name | Different<br> suit(s) | Different<br> group(s)| Notes |\n",
    "|:---:|:---|:---:|:---:|:---:|\n",
    "| **0** | NONE | 0 | 0 | no cards have been drawn |\n",
    "| **1** | High Card | 2+ | 5 | |\n",
    "| **2** | One Pair | 2+ | 3 | |\n",
    "| **3** | Two Pairs | 2+  | 5 | |\n",
    "| **4** | Three of a Kind | 3+  | 3 | |\n",
    "| **5** | Straight | 4  | 5 | |\n",
    "| **6** | Flush | 1  | 5 | |\n",
    "| **7** | Full House | 3+  | 2 | |\n",
    "| **8** | Four of a Kind | 4  | 2 | |\n",
    "| **9** | Straight Flush | 1  | 5 | |\n",
    "| **10** | Royal Flush | 1 | 5 | |\n",
    "\n",
    "Last step is to have the leftover cards that compete with each other sorted from high to low. If the players have the same rank it will get resolved by comparing these. Notice that Full House has two compare cards for the Ranked value and no card for the leftover. In the case of the High Card it does not mather if the high card is in the ranked and aslo exists in the leftover cards (that is not the case for the other Ranked cases)."
   ]
  },
  {
   "cell_type": "markdown",
   "metadata": {},
   "source": [
    "## Aftermath Report\n",
    "\n",
    "I refactored the code three times, as my experience of python has grown in this assignment:\n",
    "* First time it was around breaking up the code into more methods at the moment the method's became large, this was to increase my own overview (actually the maintenance) of the code. I also needed to introduce the zip to have more consistence in the iteration and dictionaries.\n",
    "* The second time to make te code more like text you can follow the rules of poker in it, without bothering of the representations of the sets (I did keep them as reference in global's). Here I choose to keep all the complexity the same so I also recreated the sub-list (e.a. all groups of cards that have only one card of each) into separate list by keeping the same representations.\n",
    "* Third to have the arguments properly parsed from the Command line, Notebook and PyCharm where all using \n",
    "\n",
    "The refactoring was fast and only was focused on the added functionality or readability due to the fact that in the first stages the unit test have been created. This helped increase the readability until I liked it. The refactoring process can be a little bit observed in the order how the test came in (*try to guess the steps that I did*).\n",
    "As this assignment is also part of showing readable code for others, I do not go into optimizing the code into smaller faster working blocks of functionality *(note this can be done as some iterations can be compressed into each other)*.\n",
    "    "
   ]
  },
  {
   "cell_type": "markdown",
   "metadata": {},
   "source": [
    "## Result\n",
    "\n",
    "Here is the end result for the problem 54 of the project euler assignment.\n",
    "To solve this challenge use the following input:\n",
    " * Set \"file:\" to ../data/p054_poker.txt\n",
    " \n",
    " The result will be shown that solves the challenge.\n",
    "  "
   ]
  },
  {
   "cell_type": "code",
   "execution_count": null,
   "metadata": {},
   "outputs": [],
   "source": [
    "toggle_link()\n",
    "import eproblem54 as ep54\n",
    "ep54.main()"
   ]
  },
  {
   "cell_type": "markdown",
   "metadata": {},
   "source": [
    "## Source\n",
    "\n",
    "After executing the cell below the code will be loaded from the eproblem12.py file.\n"
   ]
  },
  {
   "cell_type": "code",
   "execution_count": null,
   "metadata": {},
   "outputs": [],
   "source": [
    "%load ../eproblems/eproblem54.py"
   ]
  }
 ],
 "metadata": {
  "kernelspec": {
   "display_name": "Python 3",
   "language": "python",
   "name": "python3"
  },
  "language_info": {
   "codemirror_mode": {
    "name": "ipython",
    "version": 3
   },
   "file_extension": ".py",
   "mimetype": "text/x-python",
   "name": "python",
   "nbconvert_exporter": "python",
   "pygments_lexer": "ipython3",
   "version": "3.8.3"
  }
 },
 "nbformat": 4,
 "nbformat_minor": 4
}

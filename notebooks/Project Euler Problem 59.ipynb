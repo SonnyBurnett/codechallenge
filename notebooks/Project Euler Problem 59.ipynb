{
 "cells": [
  {
   "cell_type": "markdown",
   "metadata": {},
   "source": [
    "**[Week 3 - coding@GEP - Expert](https://projecteuler.net/problem=59)**\n"
   ]
  },
  {
   "cell_type": "markdown",
   "metadata": {},
   "source": [
    "##  Euler problem 59\n",
    "\n",
    "Notebooks are composed out of blocks (called \"cells\") of text and code. Each of these is editable, though you'll only be expected to update the input in output cells after running a predefined code cell.\n",
    "\n",
    "To get started, try running the code cell below (by pressing the ► Run button, or clicking on the cell and pressing ctrl+enter on your keyboard). I have added two kinds of toggles to be able to toggle the code cell in order to have a readable jupyter notebook. You must execute the code cell in the correct order as some are importing variables and notebook formatting.\n",
    "\n",
    "If you need to restart the notebook follow the following steps:\n",
    "* Clean all output: Kernel ➪ Restart & Clean Output.\n",
    "* Reload the form by pressing F5 or using the the notebook menu.\n",
    "* Re-run all cells up to the cell when you re-started, some imports and variables are set in earlier cells."
   ]
  },
  {
   "cell_type": "code",
   "execution_count": null,
   "metadata": {
    "scrolled": true
   },
   "outputs": [],
   "source": [
    "import sys\n",
    "sys.path.append('../src/')\n",
    "sys.path.append('../eproblems/')\n",
    "from toggle_cell import toggle_code, toggle_link"
   ]
  },
  {
   "cell_type": "markdown",
   "metadata": {},
   "source": [
    "## Description of problem  59: XOR decryption **[link](https://projecteuler.net/problem=59)**\n",
    "    \n",
    "Each character on a computer is assigned a unique code and the preferred standard is ASCII (American Standard Code for Information Interchange). For example, uppercase A = 65, asterisk (*) = 42, and lowercase k = 107.\n",
    "\n",
    "A modern encryption method is to take a text file, convert the bytes to ASCII, then XOR each byte with a given value, taken from a secret key. The advantage with the XOR function is that using the same encryption key on the cipher text, restores the plain text; for example, 65 XOR 42 = 107, then 107 XOR 42 = 65.\n",
    "\n",
    "For unbreakable encryption, the key is the same length as the plain text message, and the key is made up of random bytes. The user would keep the encrypted message and the encryption key in different locations, and without both \"halves\", it is impossible to decrypt the message.\n",
    "\n",
    "Unfortunately, this method is impractical for most users, so the modified method is to use a password as a key. If the password is shorter than the message, which is likely, the key is repeated cyclically throughout the message. The balance for this method is using a sufficiently long password key for security, but short enough to be memorable.\n",
    "\n",
    "Your task has been made easy, as the encryption key consists of three lower case characters. Using p059_cipher.txt (right click and 'Save Link/Target As...'), a file containing the encrypted ASCII codes, and the knowledge that the plain text must contain common English words, decrypt the message and find the sum of the ASCII values in the original text."
   ]
  },
  {
   "cell_type": "markdown",
   "metadata": {},
   "source": [
    "## Brainstorm\n",
    "\n",
    "The challenge over here is consisting of the following tasks:\n",
    "* Read file\n",
    "* Generate cyphers (brute force)\n",
    "* Guess simple English word(s) to see if cypher is guessed right\n",
    "* Sum all decrypted numbers\n",
    "\n",
    "Here I'm at a loss how to solve this mathematacly, there is no tirk here. Alos there is some assumtions to make unles programing a compleate ligusting anlisor with this assignement. So this is what we will assume, we will assume that the word 'the' is mentioned the most in the normal English sentances so this will be our sellector. However this is not solving the speed reqirments as the brute force clulation will take more time.\n"
   ]
  },
  {
   "cell_type": "markdown",
   "metadata": {},
   "source": [
    "## Result\n",
    "\n",
    "Here is the end result for the problem 59 of the project euler assignment.\n",
    "To solve this challenge use the following input:\n",
    " * Set \"File Name to read: \" to ..\\data\\p059_cipher.txt (this is given by the assigenment).\n",
    " * Leave \"Cipher key: \" empty as we are searching for this cihpher, hoever this is added for testing or if it is known.\n",
    " * Set \"Cipher key length: \" to 3 as given by the assignment.\n",
    " \n",
    " **Note: the calculation will take some time so wait until the notebook updates again. Wait until \"Done.\" appeards.**"
   ]
  },
  {
   "cell_type": "code",
   "execution_count": null,
   "metadata": {},
   "outputs": [],
   "source": [
    "toggle_link()\n",
    "import eproblem59 as ep59\n",
    "ep59.main()"
   ]
  },
  {
   "cell_type": "markdown",
   "metadata": {},
   "source": [
    "## Source\n",
    "\n",
    "After executing the cell below the code will be loaded from the eproblem59.py file.\n"
   ]
  },
  {
   "cell_type": "code",
   "execution_count": null,
   "metadata": {},
   "outputs": [],
   "source": [
    "%load ../eproblems/eproblem59.py"
   ]
  }
 ],
 "metadata": {
  "kernelspec": {
   "display_name": "Python 3",
   "language": "python",
   "name": "python3"
  },
  "language_info": {
   "codemirror_mode": {
    "name": "ipython",
    "version": 3
   },
   "file_extension": ".py",
   "mimetype": "text/x-python",
   "name": "python",
   "nbconvert_exporter": "python",
   "pygments_lexer": "ipython3",
   "version": "3.7.7"
  }
 },
 "nbformat": 4,
 "nbformat_minor": 4
}

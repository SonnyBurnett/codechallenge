{
 "cells": [
  {
   "cell_type": "markdown",
   "metadata": {},
   "source": [
    "**[Week 3 - coding@GEP - Expert](https://projecteuler.net/problem=41)**\n"
   ]
  },
  {
   "cell_type": "markdown",
   "metadata": {},
   "source": [
    "#  Euler problem 41\n",
    "\n",
    "Notebooks are composed out of blocks (called \"cells\") of text and code. Each of these is editable, though you'll only be expected to update the input in output cells after running a predefined code cell.\n",
    "\n",
    "To get started, try running the code cell below (by pressing the ► Run button, or clicking on the cell and pressing ctrl+enter on your keyboard). I have added two kinds of toggles to be able to toggle the code cell in order to have a readable jupyter notebook. You must execute the code cell in the correct order as some are importing variables and notebook formatting.\n",
    "\n",
    "If you need to restart the notebook follow the following steps:\n",
    "* Clean all output: Kernel ➪ Restart & Clean Output.\n",
    "* Reload the form by pressing F5 or using the the notebook menu.\n",
    "* Re-run all cells up to the cell when you re-started, some imports and variables are set in earlier cells."
   ]
  },
  {
   "cell_type": "code",
   "execution_count": null,
   "metadata": {
    "scrolled": true
   },
   "outputs": [],
   "source": [
    "import sys\n",
    "sys.path.append('../src/')\n",
    "sys.path.append('../eproblems/')\n",
    "from toggle_cell import toggle_code, toggle_link"
   ]
  },
  {
   "cell_type": "markdown",
   "metadata": {},
   "source": [
    "## Description of problem  41: Pandigital prime **[link](https://projecteuler.net/problem=41)**\n",
    "    \n",
    "We shall say that an n-digit number is pandigital if it makes use of all the digits 1 to n exactly once. For example, 2143 is a 4-digit pandigital and is also prime.\n",
    "\n",
    "What is the largest n-digit pandigital prime that exists?"
   ]
  },
  {
   "cell_type": "markdown",
   "metadata": {},
   "source": [
    "## Brainstorm\n",
    "\n",
    "The challenge over here is consisting of thre challenges:\n",
    "* Find a number that only contains different numbers from 1 to upto number n.\n",
    "* Calcuate if the number is prime.\n",
    "* Do that for all possible positions of the digits within the number.\n",
    "\n",
    "*So on first sight it could be done by brute force, but now let's see what we can simplify using mathematics*\n",
    "\n",
    "* Check using some simple mathematical tricks, like using divisibility rules:\n",
    "    * Division by three e.a.: if the sum of the digits is divisible by 3 then the whole number is also dividable.\n",
    "    * There are more of those tricks but in this case it is sufficient, I added a TODO to increase the possibilities if I would like to do that for fun.\n",
    "\n",
    "* There is allready a prime calculation of the Euler problem 12, this will can be reused and will improve the speed to develop this solution :).\n",
    "\n",
    "* A little investigation shows that the itertools package has permutations, so this can be used to generate tuples of different combinations.\n",
    "\n",
    "* Let's show this in a table format to see all the coding parts (or ensure to exclude \"over\"- coding):\n",
    "\n",
    "| $n$| Sum $\\sum_{i=1}^n i$ | Divisibility rule | Notes |\n",
    "|:---:|:---|:---|:---|\n",
    "| 1 | 1 | 1 | duh, under ten all numbers are different :) so only 1 applies |\n",
    "| 1, 2 | 3 | 3 | 12 and 21 are disable by 3 |\n",
    "| 1, 2, 3 | 6 | 3 | same as above but with three figures now |\n",
    "| 1, 2, 3, 4 | 10 | | The problem description give an example, but this is not the highest prime. <br> 4231 is the correct answer (useful for the unit-test) |\n",
    "| 1, 2, 3, 4, 5 | 15 | 3 | all combinations are divisible by three|\n",
    "| 1, 2, 3, 4, 5, 6 | 21 | 3 | all combinations are divisible by three |\n",
    "| 1, 2, 3, 4, 5, 6, 7 | 28 | |\n",
    "| 1, 2, 3, 4, 5, 6, 7, 8 | 36 |3 | all combinations are divisible by three |\n",
    "| 1, 2, 3, 4, 5, 6, 7, 8, 9 | 45 | 3 | all combinations are divisible by three |\n",
    " "
   ]
  },
  {
   "cell_type": "markdown",
   "metadata": {},
   "source": [
    "## Result\n",
    "\n",
    "Here is the end result for the problem 41 of the project euler assignment.\n",
    "To solve this challenge use the following input:\n",
    " * Set \"Search for pandigital below n_digit digits: \" to 9\n",
    "  "
   ]
  },
  {
   "cell_type": "markdown",
   "metadata": {},
   "source": [
    "## Aftermath Report"
   ]
  },
  {
   "cell_type": "code",
   "execution_count": null,
   "metadata": {},
   "outputs": [],
   "source": [
    "toggle_link()\n",
    "import eproblem41 as ep41\n",
    "ep41.main()"
   ]
  },
  {
   "cell_type": "markdown",
   "metadata": {},
   "source": [
    "## Source\n",
    "\n",
    "After executing the cell below the code will be loaded from the eproblem41.py file.\n"
   ]
  },
  {
   "cell_type": "code",
   "execution_count": null,
   "metadata": {},
   "outputs": [],
   "source": [
    "%load ../eproblems/eproblem41.py"
   ]
  }
 ],
 "metadata": {
  "kernelspec": {
   "display_name": "Python 3",
   "language": "python",
   "name": "python3"
  },
  "language_info": {
   "codemirror_mode": {
    "name": "ipython",
    "version": 3
   },
   "file_extension": ".py",
   "mimetype": "text/x-python",
   "name": "python",
   "nbconvert_exporter": "python",
   "pygments_lexer": "ipython3",
   "version": "3.8.3"
  }
 },
 "nbformat": 4,
 "nbformat_minor": 4
}

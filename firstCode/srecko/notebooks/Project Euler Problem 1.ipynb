{
 "cells": [
  {
   "cell_type": "markdown",
   "metadata": {},
   "source": [
    "**[Week 1 - coding@GEP - Beginner](https://projecteuler.net/problem=1)**"
   ]
  },
  {
   "cell_type": "markdown",
   "metadata": {},
   "source": [
    "#  Euler problem 1\n",
    "\n",
    "Notebooks are composed out of blocks (called \"cells\") of text and code. Each of these is editable, though you'll only be expected to update the input in output cells after running a predefined code cell.\n",
    "\n",
    "To get started, try running the code cell below (by pressing the ► Run button, or clicking on the cell and pressing ctrl+enter on your keyboard). I have added two kinds of toggles to be able to toggle the code cell in order to have a readable jupyter notebook. You must execute the code cell in the correct order as some are importing variables and notebook formatting.\n",
    "\n",
    "If you need to restart the notebook follow the following steps:\n",
    "* Clean all output: Kernel ➪ Restart & Clean Output.\n",
    "* Reload the form by pressing F5 or using the the notebook menu.\n",
    "* Re-run all cells up to the cell when you re-started, some imports and variables are set in earlier cells."
   ]
  },
  {
   "cell_type": "code",
   "execution_count": null,
   "metadata": {},
   "outputs": [],
   "source": [
    "import sys\n",
    "sys.path.append('../src/')\n",
    "sys.path.append('../eproblems/')\n",
    "from toggle_cell import toggle_code, toggle_link"
   ]
  },
  {
   "cell_type": "markdown",
   "metadata": {},
   "source": [
    "## Description of problem  1: Multiples of 3 and 5 **[link](https://projecteuler.net/problem=1)**\n",
    "\n",
    "If we list all the natural numbers below 10 that are multiples of 3 or 5, we get 3, 5, 6 and 9. The sum of these multiples is 23.\n",
    "\n",
    "Find the sum of all the multiples of 3 or 5 below 1000."
   ]
  },
  {
   "cell_type": "markdown",
   "metadata": {},
   "source": [
    "## Brainstorm\n",
    "\n",
    "The given challenge is simple: sum up all 3-ies and all 5-ies below 1000 and give the result. A simple loop will and can do this, however we can do something using mathematics and trying not to use loops but calculate the end result (for any simular question).\n",
    "\n",
    "Summing up all numbers to a certain number (we call it *n* from now on) is easly done by mutiplying the \n",
    "number and number plus one (*n+1*) and dividing it by two, this gives us the following formula's to work with:  \n",
    " 1 + 2 + 3 + ... + (n-2) + (n-1) + n = $\\sum_{i=1}^n i$ = $\\frac {(n)(n+1)}{2}$ \n",
    "\n",
    "Now let's play around with these formula's:\n",
    "  * For example; how are we to sum up all the values of 3-ies or 5-ies:\n",
    "      * Use the same calculation formula $\\frac {(n)(n+1)}{2}$ but divide the intended target number to reach *n* by the intended multiplier (e.a.: for 3-ies and below 1000 this is 333 rounded down). Now we have actually summed all numbers up to the division of the target number *n* with the multiplier (we call it *m* from now on). By multiplying with the intended multiplier *m* we actually increase the steps size (e.a.: the last number of the 3-ies is 333 and 3 times the total sum result is 999). So we will actually use the folling formula $m\\frac {(n-1)(n)}{2}$ for different given multiplier *m*.\n",
    "      * For numbers that do not divide the intended target number to reach *n* in a whole number we can do a trick by actually multiplying one less than needed using the formula resulting in $m\\frac {(n-1)(n)}{2}$; lets restructure this in $m\\frac {(n)*(n-1)}{2}$ for readability, any error correction of partial divisions is not needed anymore (ea 3*333 = 999, there is no additional multiplier of 3 between 999 and 1000, more elaborate multipliers of 15 have no whole number between 990 and 1000).\n",
    "      * For numbers that do divide the intended target number as a whole by themselves we do use the correct formula $m\\frac {(n)(n+1)}{2}$ (e.a.: 5-ies there a 200 number to be summed-up).\n",
    "  * What is wrong with summing all values of 3-ies or 5-ies? They both are sharing some values for example $3\\times5 = 15$. This we can simply correct by subtracting the \"double\" counted values by summing all multiplier of 15 up to the target number *n* and simply deduct from the total (*isn't neat 😏*)  \n",
    "  * Some other remarks as for any programinglanguage the division will take longer that mutiplying, due to chip architecture, so we will try to stick with $m\\times(n)\\times(n-1)\\times0.5$ and $m\\times(n)\\times(n+1)\\times0.5$, but this will be noticiable only in callculating very big numbers and somethimes the compiler and/or parser does this for you."
   ]
  },
  {
   "cell_type": "markdown",
   "metadata": {},
   "source": [
    "## Result\n",
    "\n",
    "Here is the end result for problem 1 of the project Euler assignment.\n",
    "To specific solve this challenge use the following input (followed by an enter):\n",
    " * Set \"Search for multiples below:\" to 1000 as requested by the Euler assignment. \n",
    " * Set \"Lower prime divider:\" to 3 as requested by the Euler assignment. \n",
    " * Set \"Higher prime divider:\" to 5 as requested by the Euler assignment.\n",
    "\n",
    "The \"Total sum of prime multiples:\" will genereate the awnser of the challenge.\n",
    "\n",
    "*(Note: The program works for any set of **prime** values)*"
   ]
  },
  {
   "cell_type": "code",
   "execution_count": null,
   "metadata": {},
   "outputs": [],
   "source": [
    "toggle_link()\n",
    "import eproblem1 as ep1\n",
    "ep1.main()"
   ]
  },
  {
   "cell_type": "markdown",
   "metadata": {},
   "source": [
    "## Source\n",
    "\n",
    "After executing the cell below the code will be loaded from the eproblem1.py file."
   ]
  },
  {
   "cell_type": "code",
   "execution_count": null,
   "metadata": {},
   "outputs": [],
   "source": [
    "%load ../eproblems/eproblem1.py"
   ]
  }
 ],
 "metadata": {
  "kernelspec": {
   "display_name": "Python 3",
   "language": "python",
   "name": "python3"
  },
  "language_info": {
   "codemirror_mode": {
    "name": "ipython",
    "version": 3
   },
   "file_extension": ".py",
   "mimetype": "text/x-python",
   "name": "python",
   "nbconvert_exporter": "python",
   "pygments_lexer": "ipython3",
   "version": "3.8.3"
  }
 },
 "nbformat": 4,
 "nbformat_minor": 4
}
